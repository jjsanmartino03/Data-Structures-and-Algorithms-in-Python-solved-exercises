{
 "cells": [
  {
   "cell_type": "markdown",
   "metadata": {},
   "source": [
    "# 1 Python Primer\n",
    "## 1.1 Python Overview\n",
    "- High-level programming language\n",
    "\n",
    "### 1.1.1 The Python Interpreter\n",
    "- **Interpreted** language\n",
    "    - An interpreter receives a command, analizes it, and report the result of the command\n",
    "    - You can execute `python filename -i` to run the file and then enter interactive mode\n",
    "    \n",
    "### 1.1.2 Preview of a Python Program\n",
    "- Individual statements usually are in one line, but can also continue in a newline with a sigle \\ or if an opener has not been closed yet\n",
    "\n",
    "## 1.2 Objects in Python\n",
    "- OO language. Data types are classes\n",
    "\n",
    "### 1.2.1 Identifiers, Objects and the Assignment statement\n",
    "- **Dinamically typed** language\n",
    "    - Identifiers are not associated with a certain data type.\n",
    "- An *alias* of an object can be created by assigning its indentifier to a new identifier, such as\n",
    "    ```\n",
    "    a = 98.6\n",
    "    b = a\n",
    "    ```\n",
    "    - Now `a is b`\n",
    "- If the object is *mutable*, the two alias can be modified by a method\n",
    "\n",
    "### 1.2.2 Creating and using Objects\n",
    "#### Instantiation\n",
    "- To **instantiate** and object you have to invoke the **constructor** of the class\n",
    "- Many Python classes suport *literal instantiation*, such as `a = 98.6`, that automatically creates a float object.\n",
    "\n",
    "#### Calling Methods\n",
    "- Functions are called as `sorted(data)`, where sorted is the function and data is a parameter\n",
    "- Class methods (*or member functions*) are called by `object.method()`\n",
    "    - Class methods can be **accessors** and **mutators**\n",
    "\n",
    "### 1.2.3 Python's Built-in Classes\n",
    "- There are *mutable* and *immutable* classes\n",
    "    - A class is **immutable** if an instantiation of that class cannot be modified, or changed. If an `a` identifies an instance of an immutable object, its value cannot be changed, but `a` can be assigned to a new value; *that is what happens when you do `a += 4`*. As integers are immutable, that operations results in a new integer object identified by `a`\n",
    "    \n",
    "Class|Immutable\n",
    ":---:|---:\n",
    "int|no\n",
    "float|no\n",
    "bool|no\n",
    "list|yes\n",
    "tuple|no\n",
    "str|no\n",
    "set|yes\n",
    "frozenset|no\n",
    "dict|yes\n",
    "\n",
    "#### The `bool` class\n",
    "- Only two instances: __True and False__\n",
    "- bool(number) is False if 0, and True if nonzero. bool(sequence) is False if empty, and True if not empty\n",
    "\n",
    "#### The `int` class\n",
    "- Can be expressed as decimal, binary, octal and hexagesimal\n",
    "- Constructor `int()`\n",
    "    - Default value is 0\n",
    "    - Can create an integer from a value, as int(\"345\")\n",
    "    - With an aditional parameter you can convert a number from a different base.\n",
    "    \n",
    "#### The `float` class\n",
    "- The constructor `float()` returns 0.0\n",
    "\n",
    "#### Sequence types: str, list and tuple\n",
    "- Sequences are collections of values\n",
    "\n",
    "#### The `list` class\n",
    "- Mutable container of objects\n",
    "- It stores __references__ to its actual elements\n",
    "- Lists are _array-based_ and _zero-indexed_\n",
    "- The `list()` constructor returns an empty list and accepts any iterable value\n",
    "\n",
    "#### The `tuple` class\n",
    "- Immutable sequence\n",
    "- To express a tuple of length one, it is necessary to add a como, such as `a = (17,)`\n",
    "\n",
    "#### The `str` class\n",
    "- Immutable _sequence of characters_\n",
    "- It is possible to use space characters for tabs, quotations, etc.\n",
    "\n",
    "#### The `set` and `frozenset` classes\n",
    "- Collection of elements, without order and repetition\n",
    "- It can only contain _immutable objects_\n",
    "- __frozensets__ are immutable sets\n",
    "- Sets are limited by {4,5,6}, but {} empty produces a dictionary. The `set()` constructors returns an empty set\n",
    "\n",
    "#### The `dict` class\n",
    "- Mapping from a set of keys associated with values\n",
    "- The constructor accepts a sequence of key-value pairs, such as `set([(\"a\",2), (\"b\",4)])`\n",
    "\n",
    "## 1.3 Expressions, Operators and Precedence\n",
    "### Operators\n",
    "#### Logical operators\n",
    "- `not`, `and` and `or`\n",
    "\n",
    "#### Equality operators\n",
    "- `is`, `is not`, `==` and `!==`\n",
    "\n",
    "#### Comparison operators\n",
    "- `<`, `<=`, `>` and`>=`\n",
    "\n",
    "#### Arithmetic operators\n",
    "- `+`, `-`, `*`, `/`, `//` and `%`\n",
    "\n",
    "#### Bitwise operators\n",
    "- Python provides the following bitwise operators for integers:\n",
    "\n",
    "Oper | Meaning\n",
    ":---|---:\n",
    "~|bitwise complement (prefix unary operator)\n",
    "& | bitwise and\n",
    "\\||bitwise or\n",
    "ˆ|bitwise exclusive-or\n",
    "<<|shift bits left, filling in with zeros\n",
    "\\>>|shift bits right, filling in with sign bit\n",
    "\n",
    "#### Sequence operators\n",
    "- `s[j]`, `s[j:i]`(including from j to i-1), `s[j:i:k]`, `s+v`, `s*k`, `val in s` and `val not in s`\n",
    "- Sequence comparison is made lexicography (element by element)\n",
    "\n",
    "Oper | Meaning\n",
    ":---|---:\n",
    "s == t|equivalent (element by element)\n",
    "s != t | not equivalent\n",
    "s < t||lexicographically less than\n",
    "s <= t|lexicographically less than or equal to\n",
    "s > t|lexicographically greater than\n",
    "s >= t|lexicographically greater than or equal to\n",
    "\n",
    "#### Operators for sets and dictionaries\n",
    "- Sets and frozensets support the following operators:\n",
    "\n",
    "Operators| Definition\n",
    "------- | -------:\n",
    "key in s | containment check\n",
    "key not in s | non-containment check\n",
    "s1 == s2 | s1 is equivalent to s2\n",
    "s1 != s2 | s1 is not equivalent to s2\n",
    "s1 <= s2 | s1 is subset of s2\n",
    "s1 < s2 | s1 is proper subset of s2\n",
    "s1 >= s2 | s1 is superset of s2\n",
    "s1 > s2 | s1 is proper superset of s2\n",
    "s1 | s2 | the union of s1 and s2\n",
    "s1 & s2 | the intersection of s1 and s2\n",
    "s1 − s2 | the set of elements in s1 but not s2\n",
    "s1 ˆ s2 | the set of elements in precisely one of s1 or s2\n",
    "\n",
    "- Dictionaries do not support > comparison, but support ==, and **it is True when two dictionaries have the same set of key:value** elements.\n",
    "\n",
    "column0 | column1\n",
    "------- | -------:\n",
    "d[key] | value associated with given key\n",
    "d[key] = value | set (or reset) the value associated with given key\n",
    "del d[key] | remove key and its associated value from dictionary\n",
    "key in d | containment check\n",
    "key not in d | non-containment check\n",
    "d1 == d2 | d1 is equivalent to d2\n",
    "d1 != d2 | d1 is not equivalent to d2\n",
    "\n",
    "#### Extended assignment operators\n",
    "```python\n",
    "a = 3\n",
    "a += 5  # a would be assigned a new object, and int 8\n",
    "alpha = [1, 2, 3]\n",
    "beta = alpha # an alias for alpha\n",
    "beta += [4, 5] # extends the original list with two more elements. alpha will be [1,2,3,4,5]\n",
    "beta = beta + [6, 7] # reassigns beta to a new list [1, 2, 3, 4, 5, 6, 7]\n",
    "# alpha will be [1, 2, 3, 4, 5]\n",
    "```\n",
    "\n",
    "### 1.3.1 Compound Expressions and Operator Precedence\n",
    "- Compund expressions are executed by an operator precedence\n",
    "- Python allows _chained assignment_: `x = y = 0`; multiple variables to the rightmost value\n",
    "- Also allows the _comparison chain_: `8 > x + y < 16` evaluates to `(8 > x + y) and (x + y < 16)`\n",
    "\n",
    "## 1.4 Control Flow\n",
    "- _Conditionals and loops_\n",
    "  -  **It is possible to place the code to the right of the colon, if the code is possible to execute as only one line**\n",
    "- In python identation defines the block codes\n",
    "\n",
    "### 1.4.1 Conditionals\n",
    "- Block of code executed if a condition is True\n",
    "\n",
    "### 1.4.2 Loops\n",
    "\n",
    "#### While\n",
    "```python\n",
    "j = 0\n",
    "while j < len(data) and data[j] != X :\n",
    "j += 1\n",
    "```\n",
    "\n",
    "#### For\n",
    "- Used to iterate for any iterable\n",
    "\n",
    "> There are commands like `break` and `continue`, used in loops\n",
    "\n",
    "## 1.5 Functions\n",
    "- Function have a namespace and thus, variables with local scope\n",
    "\n",
    "#### Return statement\n",
    "- `return` indicates the finish of the execution and the return of a given value, or None if not specified\n",
    "\n",
    "### 1.5.1 Information Passing\n",
    "- Parameters\n",
    "\n",
    "#### Mutable parameters\n",
    "- When a parameter is mutable, any change made to it inside the function, **changes the actual object**\n",
    "\n",
    "#### Default parameter value\n",
    "- `def foo(a, b=15, c=27):`\n",
    "  - It is illegal to define `foo` as `def foo(a,b=15,c)`\n",
    "\n",
    "#### Keyword parameters\n",
    "- Explicitly assigning an actual parameter to a formal parameter \n",
    "  \n",
    "### 1.5.2 Python's Built-in functions\n",
    "Calling Syntax | Description\n",
    "-------: | -------\n",
    "all(iterable) | Return True if bool(e) is True for each element e.\n",
    "any(iterable) | Return True if bool(e) is True for at least one element e.\n",
    "chr(integer) | Return a one-character string with the given Unicode code point.\n",
    "divmod(x, y) | Return (x // y, x % y) as tuple, if x and y are integers.\n",
    "hash(obj) | Return an integer hash value for the object (see Chapter 10).\n",
    "id(obj) | Return the unique integer serving as an “identity” for the object.\n",
    "isinstance(obj, cls) | Determine if obj is an instance of the class (or a subclass).\n",
    "iter(iterable) | Return a new iterator object for the parameter (see Section 1.8).\n",
    "\n",
    "## 1.6 Simple Input and Output\n",
    "### Console Input and Output\n",
    "#### The `print` function\n",
    "- Addition parameters: sep and end\n",
    "  \n",
    "#### The `input` function\n",
    "\n",
    "### 1.6.2 Files\n",
    "```python\n",
    "fp = open(filename, mode)\n",
    "fp.close()\n",
    "```\n",
    "- Some functions are\n",
    "\n",
    "function | operation\n",
    "------- | -------\n",
    "fp.writelines(seq) | Write each of the strings of the given sequence at the current position of the writable file. This command does not insert any newlines, beyond those that are embedded in the strings.\n",
    "print(..., file=fp) | Redirect output of print function to the file.\n",
    "\n",
    "## 1.7 Exception Handling\n",
    "- Exceptions are **objects** raised when the code encounter any **unexpected situation**\n",
    "- Exceptions **can be caught (handled**), to stop them of ruining the execution\n",
    "- `print( Unable to open the file: , e)`\n",
    "\n",
    "### 1.7.1 Handling an exception\n",
    "- `raise` statement\n",
    "  \n",
    "### 1.7.2 Catching an exception\n",
    "- try-except control structure\n",
    "- a `raise` command alone in an except block will **raise the exception being handled**\n",
    "- There can be a `finally` code block after the try-except, that will be executed always\n",
    "\n",
    "## 1.8 Iterators and Generators\n",
    "- An **iterator** is an objects that manages an iteration through a series of values\n",
    "- An iterable is a sequence of values that can produce an iterator by iter(iterable)\n",
    "\n",
    "#### Generators\n",
    "- Functions that instead of return a value, **yield a set of values**, one value at a time\n",
    "\n",
    "## 1.9 Additional Python Conveniencies\n",
    "### 1.9.1 Conditional expressions\n",
    "- `expr1 if condition else expr2`\n",
    "\n",
    "### 1.9.2 Comprehension syntax\n",
    "| Expression                         | Data type                |\n",
    "| ---------------------------------- | ------------------------ |\n",
    "| [ k k for k in range(1, n+1) ]     | list comprehension       |\n",
    "| { k k for k in range(1, n+1) }     | set comprehension        |\n",
    "| ( k k for k in range(1, n+1) )     | generator comprehension  |\n",
    "| { k : k k for k in range(1, n+1) } | dictionary comprehension |\n",
    "\n",
    "### 1.9.3 Packing and Unpacking of Sequences\n",
    "-   If a series of comma-separated expressions are given in a larger context, they will be treated as a **single tuple**, even if no enclosing parentheses are provided:\n",
    "    - `data = 1,2,3,4`  \n",
    "    - `return x,y`\n",
    "- Unpacking\n",
    "  - a,b = data\n",
    "  - `for x, y in [(7, 2), (5, 8), (6, 4)]:`\n",
    "  \n",
    "#### Simultaneous assignments\n",
    "- `a,b = 3,4`\n",
    "- `a, b = b, a`\n",
    "\n",
    "## 1.10 Scopes and namespaces\n",
    "- A namespace manages all identifiers that are currently defined in a given scope\n",
    "\n",
    "#### First-class objects\n",
    "- **first-class objects** are instances of a type that can be assigned to an identifier, passed as a parameter, or returned by a function.\n",
    "\n",
    "## 1.11 Modules and Import statement\n",
    "- Yes"
   ]
  },
  {
   "cell_type": "markdown",
   "metadata": {},
   "source": [
    "## 1.12 Exercises\n",
    "---\n",
    "### Reinforcement\n",
    "#### R-1.1 \n",
    "```python\n",
    "Write a short Python function, is_multiple(n, m), that takes two integer\n",
    "values and returns True if n is a multiple of m, that is, n = mi for some\n",
    "integer i, and False otherwise.\n",
    "```"
   ]
  },
  {
   "cell_type": "code",
   "execution_count": 1,
   "metadata": {},
   "outputs": [],
   "source": [
    "def is_multiple(n, m):\n",
    "    return False if n % m else True"
   ]
  },
  {
   "cell_type": "markdown",
   "metadata": {},
   "source": [
    "#### R-1.2\n",
    "```python\n",
    "Write a short Python function, is even(k), that takes an integer value and\n",
    "returns True if k is even, and False otherwise. However, your function\n",
    "cannot use the multiplication, modulo, or division operators.\n",
    "```"
   ]
  },
  {
   "cell_type": "code",
   "execution_count": 2,
   "metadata": {},
   "outputs": [],
   "source": [
    "def is_even(k):\n",
    "    return True if not k % 2 else False"
   ]
  },
  {
   "cell_type": "markdown",
   "metadata": {},
   "source": [
    "#### R-1.3\n",
    "```python\n",
    "Write a short Python function, minmax(data), that takes a sequence of\n",
    "one or more numbers, and returns the smallest and largest numbers, in the\n",
    "form of a tuple of length two. Do not use the built-in functions min or\n",
    "max in implementing your solution.\n",
    "``` "
   ]
  },
  {
   "cell_type": "code",
   "execution_count": 3,
   "metadata": {},
   "outputs": [],
   "source": [
    "def minmax(data):\n",
    "    data = sorted(data) \n",
    "    return data[0], data[-1]"
   ]
  },
  {
   "cell_type": "markdown",
   "metadata": {},
   "source": [
    "#### R-1.4\n",
    "```python\n",
    "Write a short Python function that takes a positive integer n and returns\n",
    "the sum of the squares of all the positive integers smaller than n.\n",
    "``` "
   ]
  },
  {
   "cell_type": "code",
   "execution_count": 5,
   "metadata": {},
   "outputs": [],
   "source": [
    "def sq_sum(n):\n",
    "    return sum([i**2 for i in range(1, n)])"
   ]
  },
  {
   "cell_type": "markdown",
   "metadata": {},
   "source": [
    "#### R-1.5\n",
    "```python\n",
    "Give a single command that computes the sum from Exercise R-1.4, relying\n",
    "on Python’s comprehension syntax and the built-in sum function.\n",
    "```"
   ]
  },
  {
   "cell_type": "code",
   "execution_count": 10,
   "metadata": {},
   "outputs": [],
   "source": [
    "def squares_sum(n):\n",
    "    return sum(x**2 for x in range(1, n))"
   ]
  },
  {
   "cell_type": "markdown",
   "metadata": {},
   "source": [
    "#### R-1.6\n",
    "```python\n",
    "Write a short Python function that takes a positive integer n and returns\n",
    "the sum of the squares of all the odd positive integers smaller than n.\n",
    "```"
   ]
  },
  {
   "cell_type": "code",
   "execution_count": 7,
   "metadata": {},
   "outputs": [],
   "source": [
    "def sq_odds(n):\n",
    "    return sum(x**2 for x in range(1, n, 2))"
   ]
  },
  {
   "cell_type": "markdown",
   "metadata": {},
   "source": [
    "#### R-1.7 \n",
    "```python\n",
    "Give a single command that computes the sum from Exercise R-1.6, relying\n",
    "on Python’s comprehension syntax and the built-in sum function.\n",
    "```"
   ]
  },
  {
   "cell_type": "code",
   "execution_count": 11,
   "metadata": {},
   "outputs": [],
   "source": [
    "def sq_odds(n):\n",
    "    return sum(x**2 for x in range(1, n, 2))"
   ]
  },
  {
   "cell_type": "markdown",
   "metadata": {},
   "source": [
    "#### R-1.8\n",
    "```python\n",
    "Python allows negative integers to be used as indices into a sequence,\n",
    "such as a string. If string s has length n, and expression s[k] is used for index\n",
    "−n≤k<0, what is the equivalent index j ≥0 such that s[j] references\n",
    "the same element?\n",
    "```"
   ]
  },
  {
   "cell_type": "code",
   "execution_count": 13,
   "metadata": {},
   "outputs": [],
   "source": [
    "#j = n + k"
   ]
  },
  {
   "cell_type": "markdown",
   "metadata": {},
   "source": [
    "#### R-1.9\n",
    "```python\n",
    "R-1.9 \n",
    "What parameters should be sent to the range constructor, to produce a\n",
    "range with values 50, 60, 70, 80?\n",
    "```"
   ]
  },
  {
   "cell_type": "code",
   "execution_count": 14,
   "metadata": {},
   "outputs": [],
   "source": [
    "# range(50, (any number between 80 and 90), 10)"
   ]
  },
  {
   "cell_type": "markdown",
   "metadata": {},
   "source": [
    "#### R-1.10\n",
    "```python\n",
    "What parameters should be sent to the range constructor, to produce a\n",
    "range with values 8, 6, 4, 2, 0, −2, −4, −6, −8?\n",
    "```"
   ]
  },
  {
   "cell_type": "code",
   "execution_count": 15,
   "metadata": {},
   "outputs": [],
   "source": [
    "# range(8, -10, -2) or range(8, -9, -2)"
   ]
  },
  {
   "cell_type": "markdown",
   "metadata": {},
   "source": [
    "#### R-1.11\n",
    "```python\n",
    "Demonstrate how to use Python’s list comprehension syntax to produce\n",
    "the list [1, 2, 4, 8, 16, 32, 64, 128, 256].\n",
    "```"
   ]
  },
  {
   "cell_type": "code",
   "execution_count": 16,
   "metadata": {},
   "outputs": [],
   "source": [
    "my_list = [2**i for i in range(9)]"
   ]
  },
  {
   "cell_type": "markdown",
   "metadata": {},
   "source": [
    "#### R-1.12\n",
    "```python\n",
    "Python’s random module includes a function choice(data) that returns a\n",
    "random element from a non-empty sequence. The random module includes\n",
    "a more basic function randrange, with parameterization similar to\n",
    "the built-in range function, that return a random choice from the given\n",
    "range. Using only the randrange function, implement your own version\n",
    "of the choice function.\n",
    "```"
   ]
  },
  {
   "cell_type": "code",
   "execution_count": 17,
   "metadata": {},
   "outputs": [],
   "source": [
    "import random as r\n",
    "\n",
    "def my_choice(data):\n",
    "    return data[r.randrange(len(data))]"
   ]
  },
  {
   "cell_type": "markdown",
   "metadata": {},
   "source": [
    "### Creativity\n",
    "#### C-1.13 \n",
    "```python\n",
    "Write a pseudo-code description of a function that reverses a list of n\n",
    "integers, so that the numbers are listed in the opposite order than they\n",
    "were before, and compare this method to an equivalent Python function\n",
    "for doing the same thing.\n",
    "```"
   ]
  },
  {
   "cell_type": "code",
   "execution_count": 18,
   "metadata": {},
   "outputs": [],
   "source": [
    "conclusion = \"\"\"\n",
    "funtion reverse_list parameters: list of integers\n",
    "    take the length of the list\n",
    "    iterate through the list inversely\n",
    "        append each value of the iteration to that list\n",
    "    finally delete the first (former lenght) values of the list\n",
    "\"\"\""
   ]
  },
  {
   "cell_type": "markdown",
   "metadata": {},
   "source": [
    "#### C-1.14 \n",
    "```python\n",
    "Write a short Python function that takes a sequence of integer values and\n",
    "determines if there is a distinct pair of numbers in the sequence whose\n",
    "product is odd.\n",
    "```"
   ]
  },
  {
   "cell_type": "code",
   "execution_count": 227,
   "metadata": {},
   "outputs": [
    {
     "name": "stdout",
     "output_type": "stream",
     "text": [
      "<module 'itertools' (built-in)>\n"
     ]
    }
   ],
   "source": [
    "import itertools\n",
    "\n",
    "def dis_pair_odds(data):\n",
    "    for x,y in itertools.combinations(data, 2):\n",
    "        if ( x * y ) % 2:\n",
    "            return True\n",
    "    return False\n",
    "\n",
    "# Whithout itertools\n",
    "\n",
    "def dis_pair(data):\n",
    "    for index, x in enumerate(data):\n",
    "        for y in data[index+1:]:\n",
    "            if x != y:\n",
    "                if (x * y) % 2:\n",
    "                    return True\n",
    "    return False"
   ]
  },
  {
   "cell_type": "markdown",
   "metadata": {},
   "source": [
    "#### C-1.15\n",
    "```python\n",
    "Write a Python function that takes a sequence of numbers and determines\n",
    "if all the numbers are different from each other (that is, they are distinct)\n",
    "```"
   ]
  },
  {
   "cell_type": "code",
   "execution_count": 21,
   "metadata": {},
   "outputs": [],
   "source": [
    "def are_all_different(data):\n",
    "    for num in data:\n",
    "        if data.count(num) > 1:\n",
    "            return False\n",
    "    return True\n",
    "\n",
    "# without count\n",
    "\n",
    "def are_different(data):\n",
    "    for index, num in enumerate(data):\n",
    "        for other_num in data[index+1:]:\n",
    "            if num == other_num:\n",
    "                return False\n",
    "    return True"
   ]
  },
  {
   "cell_type": "markdown",
   "metadata": {},
   "source": [
    "#### C-1.16\n",
    "```python\n",
    "In our implementation of the scale function (page 25), the body of the loop\n",
    "executes the command data[j] = factor. We have discussed that numeric\n",
    "types are immutable, and that use of the = operator in this context causes\n",
    "the creation of a new instance (not the mutation of an existing instance).\n",
    "How is it still possible, then, that our implementation of scale changes the\n",
    "actual parameter sent by the caller?\n",
    "```"
   ]
  },
  {
   "cell_type": "code",
   "execution_count": 22,
   "metadata": {},
   "outputs": [],
   "source": [
    "solution = \\\n",
    "\"\"\"\n",
    "It is possible because the actual parameter is a list,\n",
    "and with that command what you are doing is changing the list,\n",
    "by assigning that new instance that is generated to the already\n",
    "existent j index of the list.\n",
    "\"\"\""
   ]
  },
  {
   "cell_type": "markdown",
   "metadata": {},
   "source": [
    "#### C-1.17\n",
    "```python\n",
    "Had we implemented the scale function (page 25) as follows, does it work\n",
    "properly?\n",
    "\n",
    "def scale(data, factor):\n",
    "    for val in data:\n",
    "        val *= factor\n",
    "        \n",
    "Explain why or why not.\n",
    "```"
   ]
  },
  {
   "cell_type": "code",
   "execution_count": 23,
   "metadata": {},
   "outputs": [],
   "source": [
    "solution = \\\n",
    "\"\"\"\n",
    "No, it does not work, because with that implementation what you are do is to assign\n",
    "a new value to de val variable, and that does not affect the former \"val\" value that \n",
    "is given by the for loop. \n",
    "\"\"\""
   ]
  },
  {
   "cell_type": "markdown",
   "metadata": {},
   "source": [
    "#### C-1.18\n",
    "```python\n",
    "Demonstrate how to use Python’s list comprehension syntax to produce\n",
    "the list [0, 2, 6, 12, 20, 30, 42, 56, 72, 90].\n",
    "```"
   ]
  },
  {
   "cell_type": "code",
   "execution_count": 191,
   "metadata": {},
   "outputs": [
    {
     "data": {
      "text/plain": [
       "[0, 2, 6, 12, 20, 30, 42, 56, 72, 90]"
      ]
     },
     "execution_count": 191,
     "metadata": {},
     "output_type": "execute_result"
    }
   ],
   "source": [
    "[i*(i+1) for i in range(10)]"
   ]
  },
  {
   "cell_type": "markdown",
   "metadata": {},
   "source": [
    "#### C-1.19\n",
    "```python\n",
    "Demonstrate how to use Python’s list comprehension syntax to produce\n",
    "the list [ a , b , c , ..., z ], but without having to type all 26 such\n",
    "characters literally.\n",
    "```"
   ]
  },
  {
   "cell_type": "code",
   "execution_count": 26,
   "metadata": {},
   "outputs": [],
   "source": [
    "[chr(i) for i in range(97,123)]"
   ]
  },
  {
   "cell_type": "markdown",
   "metadata": {},
   "source": [
    "#### C-1.20\n",
    "```python\n",
    "Python’s random module includes a function shuffle(data) that accepts a list of elements\n",
    "and randomly reorders the elements so that each possible order occurs with equal probability.\n",
    "The random module includes a more basic function randint(a, b) that returns a uniformly\n",
    "random integer from a to b (including both endpoints). Using only the randint function,\n",
    "implement your own version of the shuffle function.\n",
    "```"
   ]
  },
  {
   "cell_type": "code",
   "execution_count": 30,
   "metadata": {},
   "outputs": [],
   "source": [
    "from random import randint\n",
    "\n",
    "def my_shuffle(data):\n",
    "    index_dict = {}\n",
    "    \n",
    "    for i in data:\n",
    "        \n",
    "        new_index = randint(0, len(data)-1)\n",
    "        \n",
    "        while new_index in index_dict:\n",
    "            new_index = randint(0, len(data)-1)\n",
    "            \n",
    "        index_dict[new_index] = i\n",
    "        \n",
    "    length = len(data)\n",
    "    del data[:]\n",
    "    data += [index_dict[j] for j in range(length)]\n",
    "    \n",
    "    return data"
   ]
  },
  {
   "cell_type": "markdown",
   "metadata": {},
   "source": [
    "#### C-1.21\n",
    "```python\n",
    "Write a Python program that repeatedly reads lines from standard input\n",
    "until an EOFError is raised, and then outputs those lines in reverse order\n",
    "(a user can indicate end of input by typing ctrl-D).\n",
    "```"
   ]
  },
  {
   "cell_type": "code",
   "execution_count": 5,
   "metadata": {},
   "outputs": [],
   "source": [
    "lines = []\n",
    "try:\n",
    "    while True is False:   # I've done this so that when i run the notebook it will not be asking for input forever\n",
    "        lines.append(input())\n",
    "except EOFError:\n",
    "    print(lines[::-1])"
   ]
  },
  {
   "cell_type": "markdown",
   "metadata": {},
   "source": [
    "#### C-1.22\n",
    "```python\n",
    "Write a short Python program that takes two arrays a and b of length n\n",
    "storing int values, and returns the dot product of a and b. That is, it returns\n",
    "an array c of length n such that c[i] = a[i] · b[i], for i = 0, . . . ,n−1.\n",
    "```"
   ]
  },
  {
   "cell_type": "code",
   "execution_count": 8,
   "metadata": {},
   "outputs": [],
   "source": [
    "def dot_prod(list1, list2):\n",
    "    return [list1[i]*list2[i] for i in range(len(list1))]\n"
   ]
  },
  {
   "cell_type": "markdown",
   "metadata": {},
   "source": [
    "#### C-1.23\n",
    "```python\n",
    "Give an example of a Python code fragment that attempts to write an element\n",
    "to a list based on an index that may be out of bounds. If that index\n",
    "is out of bounds, the program should catch the exception that results, and\n",
    "print the following error message:\n",
    "\"Don't try buffer overflow attacks in Python\"!\n",
    "```"
   ]
  },
  {
   "cell_type": "code",
   "execution_count": 67,
   "metadata": {},
   "outputs": [
    {
     "name": "stdout",
     "output_type": "stream",
     "text": [
      "6\n"
     ]
    }
   ],
   "source": [
    "from random import randint\n",
    "\n",
    "num_to_select = [1,2,3,4,5,6]\n",
    "\n",
    "try:\n",
    "    print(num_to_select[randint(0,len(num_to_select)+2)])\n",
    "except IndexError as e:\n",
    "    print(\"Don't try buffer overflow attacks in python:\",e)"
   ]
  },
  {
   "cell_type": "markdown",
   "metadata": {},
   "source": [
    "#### C-1.24\n",
    "```python\n",
    "Write a short Python function that counts the number of vowels in a given\n",
    "character string.\n",
    "```"
   ]
  },
  {
   "cell_type": "code",
   "execution_count": 156,
   "metadata": {},
   "outputs": [
    {
     "name": "stdout",
     "output_type": "stream",
     "text": [
      "Hello World!\n",
      "3\n",
      "World says: Hello dumb programmer, stop bothering me!\n",
      "13\n"
     ]
    }
   ],
   "source": [
    "import re\n",
    "\n",
    "a = \"aeiou\"\n",
    "print(len([i for i in input().lower() if i in a]))\n",
    "\n",
    "# or\n",
    "\n",
    "print(len(re.findall(\"[aeiou]\", input().lower())))"
   ]
  },
  {
   "cell_type": "markdown",
   "metadata": {},
   "source": [
    "#### C-1.25\n",
    "```python\n",
    "Write a short Python function that takes a string s, representing a sentence,\n",
    "and returns a copy of the string with all punctuation removed. For example,\n",
    "if given the string \"Let's try, Mike.\", this function would return\n",
    "\"Lets try Mike\".\n",
    "```"
   ]
  },
  {
   "cell_type": "code",
   "execution_count": 163,
   "metadata": {},
   "outputs": [
    {
     "name": "stdout",
     "output_type": "stream",
     "text": [
      "\n",
      "\n"
     ]
    }
   ],
   "source": [
    "print(re.sub(\"[^\\w\\s]\", \"\", input()))"
   ]
  },
  {
   "cell_type": "markdown",
   "metadata": {},
   "source": [
    "#### C-1.26\n",
    "```python\n",
    "Write a short program that takes as input three integers, a, b, and c, from\n",
    "the console and determines if they can be used in a correct arithmetic\n",
    "formula (in the given order), like “a+b = c,” “a = b−c,” or “a ∗ b = c.”\n",
    "```"
   ]
  },
  {
   "cell_type": "code",
   "execution_count": 43,
   "metadata": {},
   "outputs": [
    {
     "name": "stdout",
     "output_type": "stream",
     "text": [
      "Write a b c: 5 3 2\n",
      ">>> a - b = c <<< is a correct equation\n",
      ">>> a = b + c <<< is a correct equation\n"
     ]
    }
   ],
   "source": [
    "a,b,c = list(map(int, input(\"Write a b c: \").split()))\n",
    "\n",
    "dict_oper = [\n",
    "\"a + b == c\",\n",
    "\"a - b == c\",\n",
    "\"a * b == c\",\n",
    "\"a / b == c\",\n",
    "\"a ** b == c\",\n",
    "\"a == b + c\",\n",
    "\"a == b - c\",\n",
    "\"a == b * c\",\n",
    "\"a == b / c\",\n",
    "\"a == b ** c\"\n",
    "]\n",
    "\n",
    "for i in dict_oper:\n",
    "    print( f\">>> {i.replace('==','=')} <<< is a correct equation\\n\" if (lambda exp: eval(exp))(i) else \"\", end=\"\")"
   ]
  },
  {
   "cell_type": "markdown",
   "metadata": {},
   "source": [
    "#### C-1.27\n",
    "```python\n",
    "In Section 1.8, we provided three different implementations of a generator\n",
    "that computes factors of a given integer. The third of those implementations,\n",
    "from page 41, was the most efficient, but we noted that it did not\n",
    "yield the factors in increasing order. Modify the generator so that it reports\n",
    "factors in increasing order, while maintaining its general performance advantages\n",
    "```"
   ]
  },
  {
   "cell_type": "code",
   "execution_count": 192,
   "metadata": {},
   "outputs": [
    {
     "name": "stdout",
     "output_type": "stream",
     "text": [
      "[1, 2, 4, 5, 10, 20, 25, 50, 100]\n"
     ]
    }
   ],
   "source": [
    "import math\n",
    "\n",
    "def factors(n):\n",
    "    k = 1\n",
    "    nexts = []\n",
    "    while k * k < n:\n",
    "        if not n % k:\n",
    "            yield k\n",
    "            nexts.append(n//k)\n",
    "        k += 1\n",
    "    if k*k == n:\n",
    "        yield k\n",
    "    for i in nexts[::-1]: yield i\n",
    "        \n",
    "print(list(factors(100)))"
   ]
  },
  {
   "cell_type": "markdown",
   "metadata": {},
   "source": [
    "#### C-1.28\n",
    "```python\n",
    "The p-norm of a vector v = (v1,v2, . . . ,vn) in n-dimensional space is defined\n",
    "as (I could not put it in this file, sorry)\n",
    "For the special case of p = 2, this results in the traditional Euclidean\n",
    "norm, which represents the length of the vector. For example, the Euclidean\n",
    "norm of a two-dimensional vector with coordinates (4,3) has a\n",
    "Euclidean norm of\n",
    "√(4**2+3**2) = √(16+9) = √25 = 5. \n",
    "Give an implementation\n",
    "of a function named norm such that norm(v, p) returns the p-norm\n",
    "value of v and norm(v) returns the Euclidean norm of v. You may assume\n",
    "that v is a list of numbers.\n",
    "```"
   ]
  },
  {
   "cell_type": "code",
   "execution_count": 8,
   "metadata": {},
   "outputs": [
    {
     "name": "stdout",
     "output_type": "stream",
     "text": [
      "2.00\n"
     ]
    }
   ],
   "source": [
    "def norm(v, p=2):\n",
    "    sum_sq = sum([i**p for i in v])\n",
    "    return f\"{pow(sum_sq, 1/p):.2f}\"\n",
    "\n",
    "print(norm([2],3))"
   ]
  },
  {
   "cell_type": "markdown",
   "metadata": {},
   "source": [
    "### Creativity\n",
    "\n",
    "#### P-1.29\n",
    "```python\n",
    "Write a Python program that outputs all possible strings formed by using\n",
    "the characters c , a , t , d , o , and g exactly once.\n",
    "```"
   ]
  },
  {
   "cell_type": "code",
   "execution_count": 246,
   "metadata": {},
   "outputs": [],
   "source": [
    "# txt = \"catdog\"\n",
    "\n",
    "solution = list(itertools.permutations(txt))\n",
    "\n",
    "# without itertools\n",
    "\n",
    "def recursed_permutations(txt):\n",
    "    for i in txt:\n",
    "        if len(txt)>1:\n",
    "            for j in recursed_permutations(txt[1:]):\n",
    "                yield txt[0] + j\n",
    "        else:\n",
    "            yield txt\n",
    "        txt = f\"{txt[1:]}{txt[0]}\"\n",
    "            \n",
    "solution2 = list(recursed_permutations(txt))"
   ]
  },
  {
   "cell_type": "markdown",
   "metadata": {},
   "source": [
    "#### P-1.30\n",
    "```python\n",
    "Write a Python program that can take a positive integer greater than 2 as\n",
    "input and write out the number of times one must repeatedly divide this\n",
    "number by 2 before getting a value less than 2.\n",
    "```"
   ]
  },
  {
   "cell_type": "code",
   "execution_count": 8,
   "metadata": {},
   "outputs": [
    {
     "name": "stdout",
     "output_type": "stream",
     "text": [
      "Write a number greater than 2: 346\n",
      "You must divide that number 8 times to get a value less than 2\n"
     ]
    }
   ],
   "source": [
    "n = int(input(\"Write a number greater than 2: \"))\n",
    "\n",
    "count = 0\n",
    "\n",
    "while n >= 2:\n",
    "    n /= 2\n",
    "    count += 1\n",
    "\n",
    "print(f\"You must divide that number {count} times to get a value less than 2\")"
   ]
  },
  {
   "cell_type": "markdown",
   "metadata": {},
   "source": [
    "#### P-1.31\n",
    "```python\n",
    "Write a Python program that can “make change.” Your program should\n",
    "take two numbers as input, one that is a monetary amount charged and the\n",
    "other that is a monetary amount given. It should then return the number\n",
    "of each kind of bill and coin to give back as change for the difference\n",
    "between the amount given and the amount charged. The values assigned\n",
    "to the bills and coins can be based on the monetary system of any current\n",
    "or former government. Try to design your program so that it returns as\n",
    "few bills and coins as possible.\n",
    "```"
   ]
  },
  {
   "cell_type": "code",
   "execution_count": 20,
   "metadata": {
    "scrolled": false
   },
   "outputs": [
    {
     "name": "stdout",
     "output_type": "stream",
     "text": [
      "1 2\n",
      "1:1\n"
     ]
    }
   ],
   "source": [
    "from collections import defaultdict\n",
    "\n",
    "charged, given = list(map(float,input().split()))\n",
    "change = given - charged\n",
    "\n",
    "bills = [1000, 500, 100, 50, 25, 10, 5, 2, 1, 0.5, 0.25, 0.1, 0.05]\n",
    "counting = 0\n",
    "dictio = defaultdict(int)\n",
    "\n",
    "for bill in bills:\n",
    "    while (counting + bill )<= change:\n",
    "        counting += bill\n",
    "        dictio[bill] += 1\n",
    "        \n",
    "print(*[f\"{i}:{dictio[i]}\" for i in dictio], sep=\"\\n\")"
   ]
  },
  {
   "cell_type": "markdown",
   "metadata": {},
   "source": [
    "#### P-1.32\n",
    "```python\n",
    "Write a Python program that can simulate a simple calculator, using the\n",
    "console as the exclusive input and output device. That is, each input to the\n",
    "calculator, be it a number, like 12.34 or 1034, or an operator, like + or =,\n",
    "can be done on a separate line. After each such input, you should output\n",
    "to the Python console what would be displayed on your calculator.\n",
    "```"
   ]
  },
  {
   "cell_type": "code",
   "execution_count": 1,
   "metadata": {},
   "outputs": [
    {
     "name": "stdout",
     "output_type": "stream",
     "text": [
      "5\n",
      "+\n",
      "4\n",
      "9.0\n",
      "=\n",
      "9.0\n",
      "esc\n"
     ]
    }
   ],
   "source": [
    "def start_calc():\n",
    "    opers = ['+', '-', '*', '/', '**']\n",
    "    result = 0\n",
    "\n",
    "    while True:\n",
    "\n",
    "        a = input()\n",
    "\n",
    "        try:\n",
    "            float(a)\n",
    "            result = a\n",
    "\n",
    "        except:\n",
    "            if a in opers:\n",
    "                second = float(input())\n",
    "                result = eval(f\"{result}{a}{second}\")\n",
    "                print(result)\n",
    "\n",
    "            elif a == \"=\":\n",
    "                print(result)\n",
    "\n",
    "            elif a == \"esc\":\n",
    "                break\n",
    "\n",
    "            else:\n",
    "                print(\"Syntax Error. Value reseted to 0\")\n",
    "                result = 0\n",
    "                break"
   ]
  },
  {
   "cell_type": "markdown",
   "metadata": {},
   "source": [
    "#### P-1.33\n",
    "```python\n",
    "Write a Python program that simulates a handheld calculator. Your program \n",
    "should process input from the Python console representing buttons\n",
    "that are “pushed,” and then output the contents of the screen after each \n",
    "operation is performed. Minimally, your calculator should be able to process\n",
    "the basic arithmetic operations and a reset/clear operation.\n",
    "```"
   ]
  },
  {
   "cell_type": "code",
   "execution_count": 1,
   "metadata": {
    "slideshow": {
     "slide_type": "-"
    }
   },
   "outputs": [],
   "source": [
    "def start_handheld_calculator():\n",
    "    opers = [\"+\", \"-\", \"*\", \"/\", \"**\"]\n",
    "    cur_oper = \"\"\n",
    "    current = \"\"\n",
    "    inp = input()\n",
    "\n",
    "    while inp != \"esc\":\n",
    "\n",
    "        if inp not in opers:\n",
    "\n",
    "            if inp.isdigit() and cur_oper:\n",
    "                current += inp\n",
    "                print(current)\n",
    "\n",
    "            elif inp == \".\" and \".\" not in current and cur_oper:\n",
    "                current += inp\n",
    "                print(current)\n",
    "\n",
    "            elif (inp.isdigit() or inp == \".\") and not cur_oper:\n",
    "                current = inp\n",
    "\n",
    "            elif inp == \"cls\":\n",
    "                current = \"\"\n",
    "                result = 0\n",
    "                cur_oper = \"\"\n",
    "                print(0)\n",
    "\n",
    "            elif inp == \"=\":\n",
    "                result = eval(f\"{result}{cur_oper}{current}\")\n",
    "                cur_oper = \"\"\n",
    "                print(result)\n",
    "                current = result\n",
    "\n",
    "            else:\n",
    "                print(\"Syntax Error, values resetted to 0\")\n",
    "                result = 0\n",
    "                current = \"\"\n",
    "        else:\n",
    "            if cur_oper and inp in \"+-\" and not current:\n",
    "                current += inp\n",
    "                print(current)\n",
    "\n",
    "            elif not cur_oper:\n",
    "                cur_oper = inp\n",
    "                result, current = current, \"\"\n",
    "\n",
    "            else:\n",
    "                bef_oper, cur_oper = cur_oper, inp\n",
    "\n",
    "                result = eval(f\"{result}{bef_oper}{current}\")\n",
    "                bef_oper = \"\"\n",
    "                print(result)\n",
    "\n",
    "                current = \"\"\n",
    "        inp = input()\n",
    "\n",
    "\n",
    "#start_handheld_calculator()        "
   ]
  },
  {
   "cell_type": "markdown",
   "metadata": {},
   "source": [
    "#### P-1.34\n",
    "```python\n",
    "A common punishment for school children is to write out a sentence multiple\n",
    "times. Write a Python stand-alone program that will write out the\n",
    "following sentence one hundred times: “I will never spam my friends\n",
    "again.” Your program should number each of the sentences and it should\n",
    "make eight different random-looking typos.\n",
    "```"
   ]
  },
  {
   "cell_type": "code",
   "execution_count": 19,
   "metadata": {},
   "outputs": [
    {
     "name": "stdout",
     "output_type": "stream",
     "text": [
      "1. I will never span my friends again.\n",
      "2. I will never span my friends again.\n",
      "3. I will never span my friends again.\n",
      "4. I will never span my friends again.\n",
      "5. I will never span my friends again.\n",
      "6. I will never span my friends again.\n",
      "7. I will never span my friends again.\n",
      "8. I will never span my friends again.\n",
      "9. I will never span my friends again.\n",
      "10. I will never span my friends again.\n",
      "11. I will never span my friends again.\n",
      "12. I will never span my friends again.\n",
      "13. I will never span my friends again.\n",
      "14. I will never span my friends again.\n",
      "15. I will never span my priends again.\n",
      "16. I will never span my friends again.\n",
      "17. I will never span my friends again.\n",
      "18. I will never span my friends again.\n",
      "19. I will never bpan my friends again.\n",
      "20. I will never span my friends again.\n",
      "21. I will never gpan my friends again.\n",
      "22. I will never span my friends again.\n",
      "23. I will never span my friends again.\n",
      "24. I will never span my friends again.\n",
      "25. I wiwl never span my friends again.\n",
      "26. I will never span my friends again.\n",
      "27. I will never span my friends again.\n",
      "28. I will never span my friends again.\n",
      "29. I will never span my friends again.\n",
      "30. I will never span my friends again.\n",
      "31. I will never span my friends again.\n",
      "32. I will never span my friends again.\n",
      "33. I will never span my friends again.\n",
      "34. I will never span my friends again.\n",
      "35. I will never span my friends again.\n",
      "36. I will never span my friends again.\n",
      "37. I will never span my friends again.\n",
      "38. I will never span my friends again.\n",
      "39. I will never span my friends again.\n",
      "40. I will never span my friends again.\n",
      "41. I will never span my friends again.\n",
      "42. I will never span my friends again.\n",
      "43. I wtll never span my friends again.\n",
      "44. I will never span my friends again.\n",
      "45. I will never spnn my friends again.\n",
      "46. I will never span my friends again.\n",
      "47. I will never span my friends again.\n",
      "48. I will never span my friends again.\n",
      "49. I will never span my friends again.\n",
      "50. I will never span my friends again.\n",
      "51. I will never span my friends again.\n",
      "52. I will never span my friends again.\n",
      "53. I will never span my friends again.\n",
      "54. I will never span my friends again.\n",
      "55. I will never span my friends again.\n",
      "56. I will never span my friends again.\n",
      "57. I will never span my friends again.\n",
      "58. I will nsver span my friends again.\n",
      "59. I will never span my friends again.\n",
      "60. I will never span my friends again.\n",
      "61. I will never span my friends again.\n",
      "62. I will never span my friends again.\n",
      "63. I will never span my friends again.\n",
      "64. I will never span my friends again.\n",
      "65. I will never span my friends again.\n",
      "66. I will never span my friends again.\n",
      "67. I will never span my friends again.\n",
      "68. I will never span my friends again.\n",
      "69. I will never span my friends again.\n",
      "70. I will never span my friends again.\n",
      "71. I will never span my friends again.\n",
      "72. I will never span my friends again.\n",
      "73. I will never span my friends again.\n",
      "74. I will never span my friends again.\n",
      "75. I will never span my friends again.\n",
      "76. I will never span my friends again.\n",
      "77. I will never span my friends again.\n",
      "78. I will never span my friends again.\n",
      "79. I will never span my friends again.\n",
      "80. I will pever span my friends again.\n",
      "81. I will never span my friends again.\n",
      "82. I will never span my friends again.\n",
      "83. I will never span my friends again.\n",
      "84. I will never span my friends again.\n",
      "85. I will never span my friends again.\n",
      "86. I will never span my friends again.\n",
      "87. I will never span my friends again.\n",
      "88. I will never span my friends again.\n",
      "89. I will never span my friends again.\n",
      "90. I will never span my friends again.\n",
      "91. I will never span my friends again.\n",
      "92. I will never span my friends again.\n",
      "93. I will never span my friends again.\n",
      "94. I will never span my friends again.\n",
      "95. I will never span my friends again.\n",
      "96. I will never span my friends again.\n",
      "97. I will never span my friends again.\n",
      "98. I will never span my friends again.\n",
      "99. I will never span my friends again.\n",
      "100. I will never span my friends again.\n"
     ]
    }
   ],
   "source": [
    "import random\n",
    "\n",
    "sen = \"I will never span my friends again.\"\n",
    "\n",
    "def make_typo(text):\n",
    "    return text.replace(random.choice(text), chr(random.randrange(97, 122)), 1)\n",
    "\n",
    "selected_rows = []\n",
    "\n",
    "for i in range(8):\n",
    "    a = random.randrange(1, 100)\n",
    "    \n",
    "    while a in selected_rows:\n",
    "        a = random.randrange(1, 100)\n",
    "        \n",
    "    selected_rows.append(a)\n",
    "    \n",
    "well = [print(f\"{i}. {sen}\") if i not in selected_rows else print(f\"{i}. {make_typo(sen)}\") for i in range(1, 101)]"
   ]
  },
  {
   "cell_type": "markdown",
   "metadata": {},
   "source": [
    "#### P-1.35\n",
    "```python\n",
    "The birthday paradox says that the probability that two people in a room\n",
    "will have the same birthday is more than half, provided n, the number of\n",
    "people in the room, is more than 23. This property is not really a paradox,\n",
    "but many people find it surprising. Design a Python program that can test\n",
    "this paradox by a series of experiments on randomly generated birthdays,\n",
    "which test this paradox for n = 5,10,15,20, . . . ,100.\n",
    "```"
   ]
  },
  {
   "cell_type": "code",
   "execution_count": 28,
   "metadata": {},
   "outputs": [
    {
     "name": "stdout",
     "output_type": "stream",
     "text": [
      "5: False\n",
      "10: False\n",
      "15: False\n",
      "20: True\n",
      "25: False\n",
      "30: True\n",
      "35: True\n",
      "40: True\n",
      "45: True\n",
      "50: True\n",
      "55: True\n",
      "60: True\n",
      "65: True\n",
      "70: True\n",
      "75: True\n",
      "80: True\n",
      "85: True\n",
      "90: True\n",
      "95: True\n",
      "100: True\n"
     ]
    }
   ],
   "source": [
    "def test_bd_paradox():\n",
    "    \n",
    "    people = {}\n",
    "    \n",
    "    for i in range(5, 101, 5):\n",
    "        birthdays = []\n",
    "        \n",
    "        for j in range(i):\n",
    "            birthdays.append(random.randint(1, 365))\n",
    "            \n",
    "        for ind, bday in enumerate(birthdays):\n",
    "            \n",
    "            if bday in birthdays[ind+1:]:\n",
    "                people[i] = True\n",
    "                break\n",
    "        else:\n",
    "            people[i] = False\n",
    "                \n",
    "    return people\n",
    "                \n",
    "print(*[f\"{x}: {y}\" for x,y in test_bd_paradox().items()], sep=\"\\n\")"
   ]
  },
  {
   "cell_type": "markdown",
   "metadata": {},
   "source": [
    "#### P-1.36\n",
    "```python\n",
    "Write a Python program that inputs a list of words, separated by whitespace,\n",
    "and outputs how many times each word appears in the list. You\n",
    "need not worry about efficiency at this point, however, as this topic is\n",
    "something that will be addressed later in this book.\n",
    "```"
   ]
  },
  {
   "cell_type": "code",
   "execution_count": 36,
   "metadata": {},
   "outputs": [
    {
     "name": "stdout",
     "output_type": "stream",
     "text": [
      "hola si muy bien yo tambien gracias hola yo mal vos bien yo yo vos vos vos\n",
      "yo: 4\n",
      "vos: 4\n",
      "hola: 2\n",
      "bien: 2\n",
      "si: 1\n",
      "muy: 1\n",
      "tambien: 1\n",
      "gracias: 1\n",
      "mal: 1\n"
     ]
    }
   ],
   "source": [
    "import collections as ct\n",
    "\n",
    "words = input().split()\n",
    "\n",
    "words_rep = ct.defaultdict(int)\n",
    "\n",
    "for i in words:\n",
    "    words_rep[i] += 1\n",
    "    \n",
    "print(*sorted([f\"{x}: {y}\" for x,y in words_rep.items()], reverse=True, key=lambda x: x.split(\":\")[1]), sep= \"\\n\")\n"
   ]
  }
 ],
 "metadata": {
  "kernelspec": {
   "display_name": "Python 3.8.1 64-bit",
   "language": "python",
   "name": "python38164bit4b854453080447129e8ee06220ee80f3"
  },
  "language_info": {
   "codemirror_mode": {
    "name": "ipython",
    "version": 3
   },
   "file_extension": ".py",
   "mimetype": "text/x-python",
   "name": "python",
   "nbconvert_exporter": "python",
   "pygments_lexer": "ipython3",
   "version": "3.8.1"
  }
 },
 "nbformat": 4,
 "nbformat_minor": 4
}
