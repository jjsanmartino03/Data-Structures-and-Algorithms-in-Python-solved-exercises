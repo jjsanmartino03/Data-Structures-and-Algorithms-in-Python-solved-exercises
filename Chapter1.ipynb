{
 "cells": [
  {
   "cell_type": "markdown",
   "metadata": {},
   "source": [
    "# 1 Python Primer\n",
    "## 1.1 Python Overview\n",
    "- High-level programming language\n",
    "\n",
    "### 1.1.1 The Python Interpreter\n",
    "- **Interpreted** language\n",
    "    - An interpreter receives a command, analizes it, and report the result of the command\n",
    "    - You can execute `python filename -i` to run the file and then enter interactive mode\n",
    "    \n",
    "### 1.1.2 Preview of a Python Program\n",
    "- Individual statements usually are in one line, but can also continue in a newline with a sigle \\ or if an opener has not been closed yet\n",
    "\n",
    "## 1.2 Objects in Python\n",
    "- OO language. Data types are classes\n",
    "\n",
    "### 1.2.1 Identifiers, Objects and the Assignment statement\n",
    "- **Dinamically typed** language\n",
    "    - Identifiers are not associated with a certain data type.\n",
    "- An *alias* of an object can be created by assigning its indentifier to a new identifier, such as\n",
    "    ```\n",
    "    a = 98.6\n",
    "    b = a\n",
    "    ```\n",
    "    - Now `a is b`\n",
    "- If the object is *mutable*, the two alias can be modified by a method\n",
    "\n",
    "### 1.2.2 Creating and using Objects\n",
    "#### Instantiation\n",
    "- To **instantiate** and object you have to invoke the **constructor** of the class\n",
    "- Many Python classes suport *literal instantiation*, such as `a = 98.6`, that automatically creates a float object.\n",
    "\n",
    "#### Calling Methods\n",
    "- Functions are called as `sorted(data)`, where sorted is the function and data is a parameter\n",
    "- Class methods (*or member functions*) are called by `object.method()`\n",
    "    - Class methods can be **accessors** and **mutators**\n",
    "\n",
    "### 1.2.3 Python's Built-in Classes\n",
    "- There are *mutable* and *immutable* classes\n",
    "    - A class is **immutable** if an instantiation of that class cannot be modified, or changed. If an `a` identifies an instance of an immutable object, its value cannot be changed, but `a` can be assigned to a new value; *that is what happens when you do `a += 4`*. As integers are immutable, that operations results in a new integer object identified by `a`\n",
    "    \n",
    "Class|Immutable\n",
    ":---:|---:\n",
    "int|no\n",
    "float|no\n",
    "bool|no\n",
    "list|yes\n",
    "tuple|no\n",
    "str|no\n",
    "set|yes\n",
    "frozenset|no\n",
    "dict|yes\n",
    "\n",
    "#### The `bool` class\n",
    "- Only two instances: __True and False__\n",
    "- bool(number) is False if 0, and True if nonzero. bool(sequence) is False if empty, and True if not empty\n",
    "\n",
    "#### The `int` class\n",
    "- Can be expressed as decimal, binary, octal and hexagesimal\n",
    "- Constructor `int()`\n",
    "    - Default value is 0\n",
    "    - Can create an integer from a value, as int(\"345\")\n",
    "    - With an aditional parameter you can convert a number from a different base.\n",
    "    \n",
    "#### The `float` class\n",
    "- The constructor `float()` returns 0.0\n",
    "\n",
    "#### Sequence types: str, list and tuple\n",
    "- Sequences are collections of values\n",
    "\n",
    "#### The `list` class\n",
    "- Mutable container of objects\n",
    "- It stores __references__ to its actual elements\n",
    "- Lists are _array-based_ and _zero-indexed_\n",
    "- The `list()` constructor returns an empty list and accepts any iterable value\n",
    "\n",
    "#### The `tuple` class\n",
    "- Immutable sequence\n",
    "- To express a tuple of length one, it is necessary to add a como, such as `a = (17,)`\n",
    "\n",
    "#### The `str` class\n",
    "- Immutable _sequence of characters_\n",
    "- It is possible to use space characters for tabs, quotations, etc.\n",
    "\n",
    "#### The `set` and `frozenset` classes\n",
    "- Collection of elements, without order and repetition\n",
    "- It can only contain _immutable objects_\n",
    "- __frozensets__ are immutable sets\n",
    "- Sets are limited by {4,5,6}, but {} empty produces a dictionary. The `set()` constructors returns an empty set\n",
    "\n",
    "#### The `dict` class\n",
    "- Mapping from a set of keys associated with values\n",
    "- The constructor accepts a sequence of key-value pairs, such as `set([(\"a\",2), (\"b\",4)])`\n",
    "\n",
    "## 1.3 Expressions, Operators and Precedence\n",
    "### Operators\n",
    "#### Logical operators\n",
    "- `not`, `and` and `or`\n",
    "\n",
    "#### Equality operators\n",
    "- `is`, `is not`, `==` and `!==`\n",
    "\n",
    "#### Comparison operators\n",
    "- `<`, `<=`, `>` and`>=`\n",
    "\n",
    "#### Arithmetic operators\n",
    "- `+`, `-`, `*`, `/`, `//` and `%`\n",
    "\n",
    "#### Bitwise operators\n",
    "- Python provides the following bitwise operators for integers:\n",
    "\n",
    "Oper | Meaning\n",
    ":---|---:\n",
    "~|bitwise complement (prefix unary operator)\n",
    "& | bitwise and\n",
    "\\||bitwise or\n",
    "ˆ|bitwise exclusive-or\n",
    "<<|shift bits left, filling in with zeros\n",
    "\\>>|shift bits right, filling in with sign bit\n",
    "\n",
    "#### Sequence operators\n",
    "- `s[j]`, `s[j:i]`(including from j to i-1), `s[j:i:k]`, `s+v`, `s*k`, `val in s` and `val not in s`\n",
    "- Sequence comparison is made lexicography (element by element)\n",
    "\n",
    "Oper | Meaning\n",
    ":---|---:\n",
    "s == t|equivalent (element by element)\n",
    "s != t | not equivalent\n",
    "s < t||lexicographically less than\n",
    "s <= t|lexicographically less than or equal to\n",
    "s > t|lexicographically greater than\n",
    "s >= t|lexicographically greater than or equal to\n",
    "\n",
    "#### Operators for sets and dictionaries\n",
    "- Sets and frozensets support the following operators:\n",
    "\n",
    "Operators| Definition\n",
    "------- | -------:\n",
    "key in s | containment check\n",
    "key not in s | non-containment check\n",
    "s1 == s2 | s1 is equivalent to s2\n",
    "s1 != s2 | s1 is not equivalent to s2\n",
    "s1 <= s2 | s1 is subset of s2\n",
    "s1 < s2 | s1 is proper subset of s2\n",
    "s1 >= s2 | s1 is superset of s2\n",
    "s1 > s2 | s1 is proper superset of s2\n",
    "s1 | s2 | the union of s1 and s2\n",
    "s1 & s2 | the intersection of s1 and s2\n",
    "s1 − s2 | the set of elements in s1 but not s2\n",
    "s1 ˆ s2 | the set of elements in precisely one of s1 or s2\n",
    "\n",
    "- Dictionaries do not support > comparison, but support ==, and **it is True when two dictionaries have the same set of key:value** elements.\n",
    "\n",
    "column0 | column1\n",
    "------- | -------:\n",
    "d[key] | value associated with given key\n",
    "d[key] = value | set (or reset) the value associated with given key\n",
    "del d[key] | remove key and its associated value from dictionary\n",
    "key in d | containment check\n",
    "key not in d | non-containment check\n",
    "d1 == d2 | d1 is equivalent to d2\n",
    "d1 != d2 | d1 is not equivalent to d2\n",
    "\n",
    "#### Extended assignment operators\n",
    "```python\n",
    "a = 3\n",
    "a += 5  # a would be assigned a new object, and int 8\n",
    "alpha = [1, 2, 3]\n",
    "beta = alpha # an alias for alpha\n",
    "beta += [4, 5] # extends the original list with two more elements. alpha will be [1,2,3,4,5]\n",
    "beta = beta + [6, 7] # reassigns beta to a new list [1, 2, 3, 4, 5, 6, 7]\n",
    "# alpha will be [1, 2, 3, 4, 5]\n",
    "```\n",
    "\n",
    "### 1.3.1 Compound Expressions and Operator Precedence\n",
    "- Compund expressions are executed by an operator precedence\n",
    "- Python allows _chained assignment_: `x = y = 0`; multiple variables to the rightmost value\n",
    "- Also allows the _comparison chain_: `8 > x + y < 16` evaluates to `(8 > x + y) and (x + y < 16)`\n",
    "\n",
    "## 1.4 Control Flow\n",
    "- _Conditionals and loops_\n",
    "  -  **It is possible to place the code to the right of the colon, if the code is possible to execute as only one line**\n",
    "- In python identation defines the block codes\n",
    "\n",
    "### 1.4.1 Conditionals\n",
    "- Block of code executed if a condition is True\n",
    "\n",
    "### 1.4.2 Loops\n",
    "\n",
    "#### While\n",
    "```python\n",
    "j = 0\n",
    "while j < len(data) and data[j] != X :\n",
    "j += 1\n",
    "```\n",
    "\n",
    "#### For\n",
    "- Used to iterate for any iterable\n",
    "\n",
    "> There are commands like `break` and `continue`, used in loops\n",
    "\n",
    "## 1.5 Functions\n",
    "- Function have a namespace and thus, variables with local scope\n",
    "\n",
    "#### Return statement\n",
    "- `return` indicates the finish of the execution and the return of a given value, or None if not specified\n",
    "\n",
    "### 1.5.1 Information Passing\n",
    "- Parameters\n",
    "\n",
    "#### Mutable parameters\n",
    "- When a parameter is mutable, any change made to it inside the function, **changes the actual object**\n",
    "\n",
    "#### Default parameter value\n",
    "- `def foo(a, b=15, c=27):`\n",
    "  - It is illegal to define `foo` as `def foo(a,b=15,c)`\n",
    "\n",
    "#### Keyword parameters\n",
    "- Explicitly assigning an actual parameter to a formal parameter \n",
    "  \n",
    "### 1.5.2 Python's Built-in functions\n",
    "Calling Syntax | Description\n",
    "-------: | -------\n",
    "all(iterable) | Return True if bool(e) is True for each element e.\n",
    "any(iterable) | Return True if bool(e) is True for at least one element e.\n",
    "chr(integer) | Return a one-character string with the given Unicode code point.\n",
    "divmod(x, y) | Return (x // y, x % y) as tuple, if x and y are integers.\n",
    "hash(obj) | Return an integer hash value for the object (see Chapter 10).\n",
    "id(obj) | Return the unique integer serving as an “identity” for the object.\n",
    "isinstance(obj, cls) | Determine if obj is an instance of the class (or a subclass).\n",
    "iter(iterable) | Return a new iterator object for the parameter (see Section 1.8).\n",
    "\n",
    "## 1.6 Simple Input and Output\n",
    "### Console Input and Output\n",
    "#### The `print` function\n",
    "- Addition parameters: sep and end\n",
    "  \n",
    "#### The `input` function\n",
    "\n",
    "### 1.6.2 Files\n",
    "```python\n",
    "fp = open(filename, mode)\n",
    "fp.close()\n",
    "```\n",
    "- Some functions are\n",
    "\n",
    "function | operation\n",
    "------- | -------\n",
    "fp.writelines(seq) | Write each of the strings of the given sequence at the current position of the writable file. This command does not insert any newlines, beyond those that are embedded in the strings.\n",
    "print(..., file=fp) | Redirect output of print function to the file.\n",
    "\n",
    "## 1.7 Exception Handling\n",
    "- Exceptions are **objects** raised when the code encounter any **unexpected situation**\n",
    "- Exceptions **can be caught (handled**), to stop them of ruining the execution\n",
    "- `print( Unable to open the file: , e)`\n",
    "\n",
    "### 1.7.1 Handling an exception\n",
    "- `raise` statement\n",
    "  \n",
    "### 1.7.2 Catching an exception\n",
    "- try-except control structure\n",
    "- a `raise` command alone in an except block will **raise the exception being handled**\n",
    "- There can be a `finally` code block after the try-except, that will be executed always\n",
    "\n",
    "## 1.8 Iterators and Generators\n",
    "- An **iterator** is an objects that manages an iteration through a series of values\n",
    "- An iterable is a sequence of values that can produce an iterator by iter(iterable)\n",
    "\n",
    "#### Generators\n",
    "- Functions that instead of return a value, **yield a set of values**, one value at a time\n",
    "\n",
    "## 1.9 Additional Python Conveniencies\n",
    "### 1.9.1 Conditional expressions\n",
    "- `expr1 if condition else expr2`\n",
    "\n",
    "### 1.9.2 Comprehension syntax\n",
    "| Expression                         | Data type                |\n",
    "| ---------------------------------- | ------------------------ |\n",
    "| [ k k for k in range(1, n+1) ]     | list comprehension       |\n",
    "| { k k for k in range(1, n+1) }     | set comprehension        |\n",
    "| ( k k for k in range(1, n+1) )     | generator comprehension  |\n",
    "| { k : k k for k in range(1, n+1) } | dictionary comprehension |\n",
    "\n",
    "### 1.9.3 Packing and Unpacking of Sequences\n",
    "-   If a series of comma-separated expressions are given in a larger context, they will be treated as a **single tuple**, even if no enclosing parentheses are provided:\n",
    "    - `data = 1,2,3,4`  \n",
    "    - `return x,y`\n",
    "- Unpacking\n",
    "  - a,b = data\n",
    "  - `for x, y in [(7, 2), (5, 8), (6, 4)]:`\n",
    "  \n",
    "#### Simultaneous assignments\n",
    "- `a,b = 3,4`\n",
    "- `a, b = b, a`\n",
    "\n",
    "## 1.10 Scopes and namespaces\n",
    "- A namespace manages all identifiers that are currently defined in a given scope\n",
    "\n",
    "#### First-class objects\n",
    "- **first-class objects** are instances of a type that can be assigned to an identifier, passed as a parameter, or returned by a function.\n",
    "\n",
    "## 1.11 Modules and Import statement\n",
    "- Yes"
   ]
  },
  {
   "cell_type": "markdown",
   "metadata": {},
   "source": [
    "## 1.12 Exercises\n",
    "---\n",
    "### Reinforcement\n",
    "#### R-1.1 \n",
    "```python\n",
    "Write a short Python function, is_multiple(n, m), that takes two integer\n",
    "values and returns True if n is a multiple of m, that is, n = mi for some\n",
    "integer i, and False otherwise.\n",
    "```"
   ]
  },
  {
   "cell_type": "code",
   "execution_count": 1,
   "metadata": {},
   "outputs": [],
   "source": [
    "def is_multiple(n, m):\n",
    "    return False if n % m else True"
   ]
  },
  {
   "cell_type": "markdown",
   "metadata": {},
   "source": [
    "#### R-1.2\n",
    "```python\n",
    "Write a short Python function, is even(k), that takes an integer value and\n",
    "returns True if k is even, and False otherwise. However, your function\n",
    "cannot use the multiplication, modulo, or division operators.\n",
    "```"
   ]
  },
  {
   "cell_type": "code",
   "execution_count": 2,
   "metadata": {},
   "outputs": [],
   "source": [
    "def is_even(k):\n",
    "    return True if not k % 2 else False"
   ]
  },
  {
   "cell_type": "markdown",
   "metadata": {},
   "source": [
    "#### R-1.3\n",
    "```python\n",
    "Write a short Python function, minmax(data), that takes a sequence of\n",
    "one or more numbers, and returns the smallest and largest numbers, in the\n",
    "form of a tuple of length two. Do not use the built-in functions min or\n",
    "max in implementing your solution.\n",
    "``` "
   ]
  },
  {
   "cell_type": "code",
   "execution_count": 3,
   "metadata": {},
   "outputs": [],
   "source": [
    "def minmax(data):\n",
    "    data = sorted(data) \n",
    "    return data[0], data[-1]"
   ]
  },
  {
   "cell_type": "markdown",
   "metadata": {},
   "source": [
    "#### R-1.4\n",
    "```python\n",
    "Write a short Python function that takes a positive integer n and returns\n",
    "the sum of the squares of all the positive integers smaller than n.\n",
    "``` "
   ]
  },
  {
   "cell_type": "code",
   "execution_count": 5,
   "metadata": {},
   "outputs": [],
   "source": [
    "def sq_sum(n):\n",
    "    return sum([i**2 for i in range(1, n)])"
   ]
  },
  {
   "cell_type": "markdown",
   "metadata": {},
   "source": [
    "#### R-1.5\n",
    "```python\n",
    "Give a single command that computes the sum from Exercise R-1.4, relying\n",
    "on Python’s comprehension syntax and the built-in sum function.\n",
    "```"
   ]
  },
  {
   "cell_type": "code",
   "execution_count": 10,
   "metadata": {},
   "outputs": [],
   "source": [
    "def squares_sum(n):\n",
    "    return sum(x**2 for x in range(1, n))"
   ]
  },
  {
   "cell_type": "markdown",
   "metadata": {},
   "source": [
    "#### R-1.6\n",
    "```python\n",
    "Write a short Python function that takes a positive integer n and returns\n",
    "the sum of the squares of all the odd positive integers smaller than n.\n",
    "```"
   ]
  },
  {
   "cell_type": "code",
   "execution_count": 7,
   "metadata": {},
   "outputs": [],
   "source": [
    "def sq_odds(n):\n",
    "    return sum(x**2 for x in range(1, n, 2))"
   ]
  },
  {
   "cell_type": "markdown",
   "metadata": {},
   "source": [
    "#### R-1.7 \n",
    "```python\n",
    "Give a single command that computes the sum from Exercise R-1.6, relying\n",
    "on Python’s comprehension syntax and the built-in sum function.\n",
    "```"
   ]
  },
  {
   "cell_type": "code",
   "execution_count": 11,
   "metadata": {},
   "outputs": [],
   "source": [
    "def sq_odds(n):\n",
    "    return sum(x**2 for x in range(1, n, 2))"
   ]
  },
  {
   "cell_type": "markdown",
   "metadata": {},
   "source": [
    "#### R-1.8\n",
    "```python\n",
    "Python allows negative integers to be used as indices into a sequence,\n",
    "such as a string. If string s has length n, and expression s[k] is used for index\n",
    "−n≤k<0, what is the equivalent index j ≥0 such that s[j] references\n",
    "the same element?\n",
    "```"
   ]
  },
  {
   "cell_type": "code",
   "execution_count": 13,
   "metadata": {},
   "outputs": [],
   "source": [
    "#j = n + k"
   ]
  },
  {
   "cell_type": "markdown",
   "metadata": {},
   "source": [
    "#### R-1.9\n",
    "```python\n",
    "R-1.9 \n",
    "What parameters should be sent to the range constructor, to produce a\n",
    "range with values 50, 60, 70, 80?\n",
    "```"
   ]
  },
  {
   "cell_type": "code",
   "execution_count": 14,
   "metadata": {},
   "outputs": [],
   "source": [
    "# range(50, (any number between 80 and 90), 10)"
   ]
  },
  {
   "cell_type": "markdown",
   "metadata": {},
   "source": [
    "#### R-1.10\n",
    "```python\n",
    "What parameters should be sent to the range constructor, to produce a\n",
    "range with values 8, 6, 4, 2, 0, −2, −4, −6, −8?\n",
    "```"
   ]
  },
  {
   "cell_type": "code",
   "execution_count": 15,
   "metadata": {},
   "outputs": [],
   "source": [
    "# range(8, -10, -2) or range(8, -9, -2)"
   ]
  },
  {
   "cell_type": "markdown",
   "metadata": {},
   "source": [
    "#### R-1.11\n",
    "```python\n",
    "Demonstrate how to use Python’s list comprehension syntax to produce\n",
    "the list [1, 2, 4, 8, 16, 32, 64, 128, 256].\n",
    "```"
   ]
  },
  {
   "cell_type": "code",
   "execution_count": 16,
   "metadata": {},
   "outputs": [],
   "source": [
    "my_list = [2**i for i in range(9)]"
   ]
  },
  {
   "cell_type": "markdown",
   "metadata": {},
   "source": [
    "#### R-1.12\n",
    "```python\n",
    "Python’s random module includes a function choice(data) that returns a\n",
    "random element from a non-empty sequence. The random module includes\n",
    "a more basic function randrange, with parameterization similar to\n",
    "the built-in range function, that return a random choice from the given\n",
    "range. Using only the randrange function, implement your own version\n",
    "of the choice function.\n",
    "```"
   ]
  },
  {
   "cell_type": "code",
   "execution_count": 17,
   "metadata": {},
   "outputs": [],
   "source": [
    "import random as r\n",
    "\n",
    "def my_choice(data):\n",
    "    return data[r.randrange(len(data))]"
   ]
  },
  {
   "cell_type": "markdown",
   "metadata": {},
   "source": [
    "### Creativity\n",
    "#### C-1.13 \n",
    "```python\n",
    "Write a pseudo-code description of a function that reverses a list of n\n",
    "integers, so that the numbers are listed in the opposite order than they\n",
    "were before, and compare this method to an equivalent Python function\n",
    "for doing the same thing.\n",
    "```"
   ]
  },
  {
   "cell_type": "code",
   "execution_count": 18,
   "metadata": {},
   "outputs": [],
   "source": [
    "conclusion = \"\"\"\n",
    "funtion reverse_list parameters: list of integers\n",
    "    take the length of the list\n",
    "    iterate through the list inversely\n",
    "        append each value of the iteration to that list\n",
    "    finally delete the first (former lenght) values of the list\n",
    "\"\"\""
   ]
  },
  {
   "cell_type": "markdown",
   "metadata": {},
   "source": [
    "#### C-1.14 \n",
    "```python\n",
    "Write a short Python function that takes a sequence of integer values and\n",
    "determines if there is a distinct pair of numbers in the sequence whose\n",
    "product is odd.\n",
    "```"
   ]
  },
  {
   "cell_type": "code",
   "execution_count": 227,
   "metadata": {},
   "outputs": [
    {
     "name": "stdout",
     "output_type": "stream",
     "text": [
      "<module 'itertools' (built-in)>\n"
     ]
    }
   ],
   "source": [
    "import itertools\n",
    "\n",
    "def dis_pair_odds(data):\n",
    "    for x,y in itertools.combinations(data, 2):\n",
    "        if ( x * y ) % 2:\n",
    "            return True\n",
    "    return False\n",
    "\n",
    "# Whithout itertools\n",
    "\n",
    "def dis_pair(data):\n",
    "    for index, x in enumerate(data):\n",
    "        for y in data[index+1:]:\n",
    "            if x != y:\n",
    "                if (x * y) % 2:\n",
    "                    return True\n",
    "    return False"
   ]
  },
  {
   "cell_type": "markdown",
   "metadata": {},
   "source": [
    "#### C-1.15\n",
    "```python\n",
    "Write a Python function that takes a sequence of numbers and determines\n",
    "if all the numbers are different from each other (that is, they are distinct)\n",
    "```"
   ]
  },
  {
   "cell_type": "code",
   "execution_count": 21,
   "metadata": {},
   "outputs": [],
   "source": [
    "def are_all_different(data):\n",
    "    for num in data:\n",
    "        if data.count(num) > 1:\n",
    "            return False\n",
    "    return True\n",
    "\n",
    "# without count\n",
    "\n",
    "def are_different(data):\n",
    "    for index, num in enumerate(data):\n",
    "        for other_num in data[index+1:]:\n",
    "            if num == other_num:\n",
    "                return False\n",
    "    return True"
   ]
  },
  {
   "cell_type": "markdown",
   "metadata": {},
   "source": [
    "#### C-1.16\n",
    "```python\n",
    "In our implementation of the scale function (page 25), the body of the loop\n",
    "executes the command data[j] = factor. We have discussed that numeric\n",
    "types are immutable, and that use of the = operator in this context causes\n",
    "the creation of a new instance (not the mutation of an existing instance).\n",
    "How is it still possible, then, that our implementation of scale changes the\n",
    "actual parameter sent by the caller?\n",
    "```"
   ]
  },
  {
   "cell_type": "code",
   "execution_count": 22,
   "metadata": {},
   "outputs": [],
   "source": [
    "solution = \\\n",
    "\"\"\"\n",
    "It is possible because the actual parameter is a list,\n",
    "and with that command what you are doing is changing the list,\n",
    "by assigning that new instance that is generated to the already\n",
    "existent j index of the list.\n",
    "\"\"\""
   ]
  },
  {
   "cell_type": "markdown",
   "metadata": {},
   "source": [
    "#### C-1.17\n",
    "```python\n",
    "Had we implemented the scale function (page 25) as follows, does it work\n",
    "properly?\n",
    "\n",
    "def scale(data, factor):\n",
    "    for val in data:\n",
    "        val *= factor\n",
    "        \n",
    "Explain why or why not.\n",
    "```"
   ]
  },
  {
   "cell_type": "code",
   "execution_count": 23,
   "metadata": {},
   "outputs": [],
   "source": [
    "solution = \\\n",
    "\"\"\"\n",
    "No, it does not work, because with that implementation what you are do is to assign\n",
    "a new value to de val variable, and that does not affect the former \"val\" value that \n",
    "is given by the for loop. \n",
    "\"\"\""
   ]
  },
  {
   "cell_type": "markdown",
   "metadata": {},
   "source": [
    "#### C-1.18\n",
    "```python\n",
    "Demonstrate how to use Python’s list comprehension syntax to produce\n",
    "the list [0, 2, 6, 12, 20, 30, 42, 56, 72, 90].\n",
    "```"
   ]
  },
  {
   "cell_type": "code",
   "execution_count": 191,
   "metadata": {},
   "outputs": [
    {
     "data": {
      "text/plain": [
       "[0, 2, 6, 12, 20, 30, 42, 56, 72, 90]"
      ]
     },
     "execution_count": 191,
     "metadata": {},
     "output_type": "execute_result"
    }
   ],
   "source": [
    "[i*(i+1) for i in range(10)]"
   ]
  },
  {
   "cell_type": "markdown",
   "metadata": {},
   "source": [
    "#### C-1.19\n",
    "```python\n",
    "Demonstrate how to use Python’s list comprehension syntax to produce\n",
    "the list [ a , b , c , ..., z ], but without having to type all 26 such\n",
    "characters literally.\n",
    "```"
   ]
  },
  {
   "cell_type": "code",
   "execution_count": 26,
   "metadata": {},
   "outputs": [],
   "source": [
    "[chr(i) for i in range(97,123)]"
   ]
  },
  {
   "cell_type": "markdown",
   "metadata": {},
   "source": [
    "#### C-1.20\n",
    "```python\n",
    "Python’s random module includes a function shuffle(data) that accepts a list of elements\n",
    "and randomly reorders the elements so that each possible order occurs with equal probability.\n",
    "The random module includes a more basic function randint(a, b) that returns a uniformly\n",
    "random integer from a to b (including both endpoints). Using only the randint function,\n",
    "implement your own version of the shuffle function.\n",
    "```"
   ]
  },
  {
   "cell_type": "code",
   "execution_count": 30,
   "metadata": {},
   "outputs": [],
   "source": [
    "from random import randint\n",
    "\n",
    "def my_shuffle(data):\n",
    "    index_dict = {}\n",
    "    \n",
    "    for i in data:\n",
    "        \n",
    "        new_index = randint(0, len(data)-1)\n",
    "        \n",
    "        while new_index in index_dict:\n",
    "            new_index = randint(0, len(data)-1)\n",
    "            \n",
    "        index_dict[new_index] = i\n",
    "        \n",
    "    length = len(data)\n",
    "    del data[:]\n",
    "    data += [index_dict[j] for j in range(length)]\n",
    "    \n",
    "    return data"
   ]
  },
  {
   "cell_type": "markdown",
   "metadata": {},
   "source": [
    "#### C-1.21\n",
    "```python\n",
    "Write a Python program that repeatedly reads lines from standard input\n",
    "until an EOFError is raised, and then outputs those lines in reverse order\n",
    "(a user can indicate end of input by typing ctrl-D).\n",
    "```"
   ]
  },
  {
   "cell_type": "code",
   "execution_count": 5,
   "metadata": {},
   "outputs": [],
   "source": [
    "lines = []\n",
    "try:\n",
    "    while True is False:   # I've done this so that when i run the notebook it will not be asking for input forever\n",
    "        lines.append(input())\n",
    "except EOFError:\n",
    "    print(lines[::-1])"
   ]
  },
  {
   "cell_type": "markdown",
   "metadata": {},
   "source": [
    "#### C-1.22\n",
    "```python\n",
    "Write a short Python program that takes two arrays a and b of length n\n",
    "storing int values, and returns the dot product of a and b. That is, it returns\n",
    "an array c of length n such that c[i] = a[i] · b[i], for i = 0, . . . ,n−1.\n",
    "```"
   ]
  },
  {
   "cell_type": "code",
   "execution_count": 8,
   "metadata": {},
   "outputs": [],
   "source": [
    "def dot_prod(list1, list2):\n",
    "    return [list1[i]*list2[i] for i in range(len(list1))]\n"
   ]
  },
  {
   "cell_type": "markdown",
   "metadata": {},
   "source": [
    "#### C-1.23\n",
    "```python\n",
    "Give an example of a Python code fragment that attempts to write an element\n",
    "to a list based on an index that may be out of bounds. If that index\n",
    "is out of bounds, the program should catch the exception that results, and\n",
    "print the following error message:\n",
    "\"Don't try buffer overflow attacks in Python\"!\n",
    "```"
   ]
  },
  {
   "cell_type": "code",
   "execution_count": 67,
   "metadata": {},
   "outputs": [
    {
     "name": "stdout",
     "output_type": "stream",
     "text": [
      "6\n"
     ]
    }
   ],
   "source": [
    "from random import randint\n",
    "\n",
    "num_to_select = [1,2,3,4,5,6]\n",
    "\n",
    "try:\n",
    "    print(num_to_select[randint(0,len(num_to_select)+2)])\n",
    "except IndexError as e:\n",
    "    print(\"Don't try buffer overflow attacks in python:\",e)"
   ]
  },
  {
   "cell_type": "markdown",
   "metadata": {},
   "source": [
    "#### C-1.24\n",
    "```python\n",
    "Write a short Python function that counts the number of vowels in a given\n",
    "character string.\n",
    "```"
   ]
  },
  {
   "cell_type": "code",
   "execution_count": 156,
   "metadata": {},
   "outputs": [
    {
     "name": "stdout",
     "output_type": "stream",
     "text": [
      "Hello World!\n",
      "3\n",
      "World says: Hello dumb programmer, stop bothering me!\n",
      "13\n"
     ]
    }
   ],
   "source": [
    "import re\n",
    "\n",
    "a = \"aeiou\"\n",
    "print(len([i for i in input().lower() if i in a]))\n",
    "\n",
    "# or\n",
    "\n",
    "print(len(re.findall(\"[aeiou]\", input().lower())))"
   ]
  },
  {
   "cell_type": "markdown",
   "metadata": {},
   "source": [
    "#### C-1.25\n",
    "```python\n",
    "Write a short Python function that takes a string s, representing a sentence,\n",
    "and returns a copy of the string with all punctuation removed. For example,\n",
    "if given the string \"Let's try, Mike.\", this function would return\n",
    "\"Lets try Mike\".\n",
    "```"
   ]
  },
  {
   "cell_type": "code",
   "execution_count": 163,
   "metadata": {},
   "outputs": [
    {
     "name": "stdout",
     "output_type": "stream",
     "text": [
      "\n",
      "\n"
     ]
    }
   ],
   "source": [
    "print(re.sub(\"[^\\w\\s]\", \"\", input()))"
   ]
  },
  {
   "cell_type": "markdown",
   "metadata": {},
   "source": [
    "#### C-1.26\n",
    "```python\n",
    "Write a short program that takes as input three integers, a, b, and c, from\n",
    "the console and determines if they can be used in a correct arithmetic\n",
    "formula (in the given order), like “a+b = c,” “a = b−c,” or “a ∗ b = c.”\n",
    "```"
   ]
  },
  {
   "cell_type": "code",
   "execution_count": 186,
   "metadata": {},
   "outputs": [
    {
     "name": "stdout",
     "output_type": "stream",
     "text": [
      "Write a b c: 1 2 3\n",
      "a + b = c is correct"
     ]
    }
   ],
   "source": [
    "a,b,c = list(map(int, input(\"Write a b c: \").split()))\n",
    "\n",
    "dict_oper = {\n",
    "    \"a + b = c\": lambda: a + b == c,\n",
    "    \"a - b = c\": lambda: a - b == c,\n",
    "    \"a * b = c\": lambda: a * b == c,\n",
    "    \"a / b = c\": lambda: a / b == float(c),\n",
    "    \"a ** b = c\": lambda:a ** b == c,\n",
    "    \"a = b + c\": lambda: b + c == a,\n",
    "    \"a = b - c\": lambda: b-c == a,\n",
    "    \"a = b * c\": lambda: b * c == a,\n",
    "    \"a = b / c\": lambda: b / c == float(a),\n",
    "    \"a = b ** c\": lambda: b ** c == a,\n",
    "}\n",
    "\n",
    "for i in dict_oper:\n",
    "    print( f\"{i} is correct\" if dict_oper[i]() else \"\", end=\"\")"
   ]
  },
  {
   "cell_type": "markdown",
   "metadata": {},
   "source": [
    "#### C-1.27\n",
    "```python\n",
    "In Section 1.8, we provided three different implementations of a generator\n",
    "that computes factors of a given integer. The third of those implementations,\n",
    "from page 41, was the most efficient, but we noted that it did not\n",
    "yield the factors in increasing order. Modify the generator so that it reports\n",
    "factors in increasing order, while maintaining its general performance advantages\n",
    "```"
   ]
  },
  {
   "cell_type": "code",
   "execution_count": 192,
   "metadata": {},
   "outputs": [
    {
     "name": "stdout",
     "output_type": "stream",
     "text": [
      "[1, 2, 4, 5, 10, 20, 25, 50, 100]\n"
     ]
    }
   ],
   "source": [
    "import math\n",
    "\n",
    "def factors(n):\n",
    "    k = 1\n",
    "    nexts = []\n",
    "    while k * k < n:\n",
    "        if not n % k:\n",
    "            yield k\n",
    "            nexts.append(n//k)\n",
    "        k += 1\n",
    "    if k*k == n:\n",
    "        yield k\n",
    "    for i in nexts[::-1]: yield i\n",
    "        \n",
    "print(list(factors(100)))"
   ]
  },
  {
   "cell_type": "markdown",
   "metadata": {},
   "source": [
    "#### C-1.28\n",
    "```python\n",
    "The p-norm of a vector v = (v1,v2, . . . ,vn) in n-dimensional space is defined\n",
    "as (I could not put it in this file, sorry)\n",
    "For the special case of p = 2, this results in the traditional Euclidean\n",
    "norm, which represents the length of the vector. For example, the Euclidean\n",
    "norm of a two-dimensional vector with coordinates (4,3) has a\n",
    "Euclidean norm of\n",
    "√(4**2+3**2) = √(16+9) = √25 = 5. \n",
    "Give an implementation\n",
    "of a function named norm such that norm(v, p) returns the p-norm\n",
    "value of v and norm(v) returns the Euclidean norm of v. You may assume\n",
    "that v is a list of numbers.\n",
    "```"
   ]
  },
  {
   "cell_type": "code",
   "execution_count": 219,
   "metadata": {},
   "outputs": [
    {
     "name": "stdout",
     "output_type": "stream",
     "text": [
      "2\n"
     ]
    }
   ],
   "source": [
    "def norm(v, p=2):\n",
    "    sum_sq = sum([i**p for i in v])\n",
    "    \n",
    "    if p == 2:\n",
    "        return f\"{math.sqrt(sum_sq):.2f}\"\n",
    "    \n",
    "    else:\n",
    "        for i in range(int(math.sqrt(sum_sq)), sum_sq):\n",
    "            \n",
    "            if i**p == sum_sq:\n",
    "                return i\n",
    "            \n",
    "    return f\"{p}{chr(8730)}{sum_sq}\"\n",
    "\n",
    "print(norm([2],3))"
   ]
  },
  {
   "cell_type": "markdown",
   "metadata": {},
   "source": [
    "### Creativity\n",
    "\n",
    "#### P-1.29\n",
    "```python\n",
    "Write a Python program that outputs all possible strings formed by using\n",
    "the characters c , a , t , d , o , and g exactly once.\n",
    "```"
   ]
  },
  {
   "cell_type": "code",
   "execution_count": null,
   "metadata": {},
   "outputs": [],
   "source": [
    "# txt = \"catdog\"\n",
    "\n",
    "#solution = list(itertools.permutations(txt))\n",
    "\n",
    "# without itertools\n",
    "def recursed_permutations(txt):\n",
    "    for i in txt:\n",
    "        if len(txt)>1:\n",
    "            for j in recursed_permutations(txt[:1]):\n",
    "                yield txt\n",
    "                print(txt)\n",
    "        else:\n",
    "            yield txt\n",
    "        txt = f\"{txt[1:]}{txt[-1]}\"\n",
    "\n",
    "print(*list(recursed_permutations(txt)), sep=\"\\n\")\n",
    "    "
   ]
  },
  {
   "cell_type": "code",
   "execution_count": null,
   "metadata": {},
   "outputs": [],
   "source": []
  }
 ],
 "metadata": {
  "kernelspec": {
   "display_name": "Python 3.8.1 64-bit",
   "language": "python",
   "name": "python38164bit4b854453080447129e8ee06220ee80f3"
  },
  "language_info": {
   "codemirror_mode": {
    "name": "ipython",
    "version": 3
   },
   "file_extension": ".py",
   "mimetype": "text/x-python",
   "name": "python",
   "nbconvert_exporter": "python",
   "pygments_lexer": "ipython3",
   "version": "3.8.1"
  }
 },
 "nbformat": 4,
 "nbformat_minor": 4
}
